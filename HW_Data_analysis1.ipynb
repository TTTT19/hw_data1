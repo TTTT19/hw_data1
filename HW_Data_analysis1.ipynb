{
 "cells": [
  {
   "cell_type": "code",
   "execution_count": 95,
   "metadata": {},
   "outputs": [],
   "source": [
    "import pandas as pd\n",
    "place_for_file = 'C:/Users/1/Desktop/new'"
   ]
  },
  {
   "cell_type": "code",
   "execution_count": 98,
   "metadata": {},
   "outputs": [
    {
     "name": "stdout",
     "output_type": "stream",
     "text": [
      "                count\n",
      "name   gender        \n",
      "James  M       111456\n",
      "John   M       109349\n",
      "Robert M       101118\n"
     ]
    }
   ],
   "source": [
    "def count_top3(*names):\n",
    "    count = 0\n",
    "    for i in names:\n",
    "        if count == 0:\n",
    "            name_2=f'{place_for_file}/yob{i}.txt'\n",
    "            df_res = pd.read_csv(name_2,names = ['name','gender','count'])\n",
    "            count += 1\n",
    "        else:\n",
    "            dc=df_res\n",
    "            name_2=f'{place_for_file}/yob{i}.txt'\n",
    "            df = pd.read_csv(name_2,names = ['name','gender','count'])\n",
    "            df_res = pd.concat([dc,df])    \n",
    "    return df_res\n",
    "        \n",
    "print(count_top3(1900, 1950, 2000).groupby(['name','gender']).sum().sort_values(by='count', ascending=False).head(3))"
   ]
  },
  {
   "cell_type": "code",
   "execution_count": 97,
   "metadata": {},
   "outputs": [
    {
     "data": {
      "text/html": [
       "<div>\n",
       "<style scoped>\n",
       "    .dataframe tbody tr th:only-of-type {\n",
       "        vertical-align: middle;\n",
       "    }\n",
       "\n",
       "    .dataframe tbody tr th {\n",
       "        vertical-align: top;\n",
       "    }\n",
       "\n",
       "    .dataframe thead th {\n",
       "        text-align: right;\n",
       "    }\n",
       "</style>\n",
       "<table border=\"1\" class=\"dataframe\">\n",
       "  <thead>\n",
       "    <tr style=\"text-align: right;\">\n",
       "      <th></th>\n",
       "      <th></th>\n",
       "      <th>count</th>\n",
       "    </tr>\n",
       "    <tr>\n",
       "      <th>gender</th>\n",
       "      <th>year</th>\n",
       "      <th></th>\n",
       "    </tr>\n",
       "  </thead>\n",
       "  <tbody>\n",
       "    <tr>\n",
       "      <th rowspan=\"3\" valign=\"top\">F</th>\n",
       "      <th>1900</th>\n",
       "      <td>299798</td>\n",
       "    </tr>\n",
       "    <tr>\n",
       "      <th>1950</th>\n",
       "      <td>1713065</td>\n",
       "    </tr>\n",
       "    <tr>\n",
       "      <th>2000</th>\n",
       "      <td>1815295</td>\n",
       "    </tr>\n",
       "    <tr>\n",
       "      <th rowspan=\"3\" valign=\"top\">M</th>\n",
       "      <th>1900</th>\n",
       "      <td>150480</td>\n",
       "    </tr>\n",
       "    <tr>\n",
       "      <th>1950</th>\n",
       "      <td>1790437</td>\n",
       "    </tr>\n",
       "    <tr>\n",
       "      <th>2000</th>\n",
       "      <td>1963202</td>\n",
       "    </tr>\n",
       "  </tbody>\n",
       "</table>\n",
       "</div>"
      ],
      "text/plain": [
       "               count\n",
       "gender year         \n",
       "F      1900   299798\n",
       "       1950  1713065\n",
       "       2000  1815295\n",
       "M      1900   150480\n",
       "       1950  1790437\n",
       "       2000  1963202"
      ]
     },
     "execution_count": 97,
     "metadata": {},
     "output_type": "execute_result"
    }
   ],
   "source": [
    "def count_dynamics(*names):\n",
    "    count = 0\n",
    "    for i in names:\n",
    "        if count == 0:\n",
    "            name_2=f'{place_for_file}/yob{i}.txt'\n",
    "            df_res = pd.read_csv(name_2,names = ['name','gender','count'])\n",
    "            df_res['year']=i\n",
    "            count += 1\n",
    "        else:\n",
    "            dc=df_res\n",
    "            name_2=f'{place_for_file}/yob{i}.txt'\n",
    "            df = pd.read_csv(name_2,names = ['name','gender','count'])\n",
    "            df['year']=i\n",
    "            df_res = pd.concat([dc,df])    \n",
    "    return df_res\n",
    "count_dynamics(1900, 1950, 2000).groupby(['gender','year']).sum()\n"
   ]
  }
 ],
 "metadata": {
  "kernelspec": {
   "display_name": "Python 3",
   "language": "python",
   "name": "python3"
  },
  "language_info": {
   "codemirror_mode": {
    "name": "ipython",
    "version": 3
   },
   "file_extension": ".py",
   "mimetype": "text/x-python",
   "name": "python",
   "nbconvert_exporter": "python",
   "pygments_lexer": "ipython3",
   "version": "3.7.3"
  }
 },
 "nbformat": 4,
 "nbformat_minor": 2
}
